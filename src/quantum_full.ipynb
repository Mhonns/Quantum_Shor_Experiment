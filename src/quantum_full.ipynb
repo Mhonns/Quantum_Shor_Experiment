{
 "cells": [
  {
   "cell_type": "markdown",
   "id": "cf1e612d",
   "metadata": {},
   "source": [
    "# Shor's Experiemnt in quantum computer"
   ]
  },
  {
   "cell_type": "markdown",
   "id": "c394564e",
   "metadata": {},
   "source": [
    "## Step 0: Import some libraries & initialize variable"
   ]
  },
  {
   "cell_type": "code",
   "execution_count": null,
   "id": "7e786af3",
   "metadata": {},
   "outputs": [
    {
     "name": "stderr",
     "output_type": "stream",
     "text": [
      "/var/folders/_w/jt_kf9wn083f9d6qv_cfhz500000gn/T/ipykernel_55564/723020016.py:8: DeprecationWarning: The \"ibm_quantum\" channel option is deprecated and will be sunset on 1 July. After this date, ibm_cloud will be the only valid channel. For information on migrating to the new IBM Quantum Platform on the \"ibm_cloud\" channel, review the migration guide https://quantum.cloud.ibm.com/docs/migration-guides/classic-iqp-to-cloud-iqp .\n",
      "  service = QiskitRuntimeService(channel=\"ibm_quantum\",\n"
     ]
    }
   ],
   "source": [
    "# Qiskit\n",
    "## Step 1\n",
    "from qiskit import QuantumCircuit\n",
    "## Step 2 \n",
    "from qiskit_ibm_runtime import QiskitRuntimeService\n",
    "from qiskit.transpiler.preset_passmanagers import generate_preset_pass_manager\n",
    "# NOTE To save the api\n",
    "service = QiskitRuntimeService(channel=\"ibm_quantum\",\n",
    "                              token=\"\")\n",
    "# QiskitRuntimeService.save_account(channel=\"ibm_quantum\",\n",
    "#                               token=\"\")\n",
    "## Step 3\n",
    "from qiskit_ibm_runtime import SamplerV2 as Sampler\n",
    "from qiskit import transpile\n",
    "## Step 4\n",
    "import matplotlib.pyplot as plt\n",
    "\n",
    "# Math\n",
    "import numpy as np\n",
    "import fractions\n",
    "from math import gcd\n",
    "from scipy.linalg import fractional_matrix_power\n"
   ]
  },
  {
   "cell_type": "code",
   "execution_count": 30,
   "id": "25c5886b",
   "metadata": {},
   "outputs": [],
   "source": [
    "n_target_wires = 8  # Number of qubits for the target register (4 for testing)\n",
    "n_estimation_wires = 12  # Number of qubits for phase estimation (3 for testing)"
   ]
  },
  {
   "cell_type": "markdown",
   "id": "05af75ab",
   "metadata": {},
   "source": [
    "## Step 1: Map the problem to the circuit"
   ]
  },
  {
   "cell_type": "code",
   "execution_count": 31,
   "id": "b2d4affa",
   "metadata": {},
   "outputs": [],
   "source": [
    "def qpe_circuit(matrix, n_target_wires, n_estimation_wires):\n",
    "    \"\"\"Construct the Quantum Phase Estimation circuit.\"\"\"\n",
    "    qc = QuantumCircuit(n_target_wires + n_estimation_wires, n_estimation_wires)\n",
    "\n",
    "    # Prepare the target register in |1> state\n",
    "    qc.x(0)\n",
    "\n",
    "    # Apply Hadamard gates to the estimation qubits\n",
    "    for wire in range(n_target_wires, n_target_wires + n_estimation_wires):\n",
    "        qc.h(wire)\n",
    "\n",
    "    # Apply controlled unitaries\n",
    "    for idx in range(n_estimation_wires):\n",
    "        power = 2 ** (n_estimation_wires - idx - 1)\n",
    "        U_power = np.linalg.matrix_power(matrix, power)\n",
    "\n",
    "        # Create a gate from the matrix and apply it as a controlled operation\n",
    "        gate = QuantumCircuit(n_target_wires)\n",
    "        gate.unitary(U_power, range(n_target_wires))\n",
    "        controlled_gate = gate.control()\n",
    "        qc.append(controlled_gate, [n_target_wires + idx] + list(range(n_target_wires)))\n",
    "\n",
    "    # Apply the inverse Quantum Fourier Transform (QFT)\n",
    "    for j in range(n_estimation_wires - 1, -1, -1):\n",
    "        qc.h(n_target_wires + j)\n",
    "        for m in range(j):\n",
    "            angle = -np.pi / (2 ** (j - m))\n",
    "            qc.cp(angle, n_target_wires + j, n_target_wires + m)\n",
    "    \n",
    "\n",
    "    # Measure the estimation qubits\n",
    "    qc.measure(range(n_target_wires, n_target_wires + n_estimation_wires), range(n_estimation_wires))\n",
    "\n",
    "    return qc"
   ]
  },
  {
   "cell_type": "markdown",
   "id": "b69416ea",
   "metadata": {},
   "source": [
    "## Step 2: Optimize the problem for quantum execution"
   ]
  },
  {
   "cell_type": "code",
   "execution_count": 32,
   "id": "ef099f77",
   "metadata": {},
   "outputs": [],
   "source": [
    "backend_name = \"ibm_sherbrooke\"\n",
    "backend = service.backend(backend_name)\n",
    "sampler = Sampler(mode=backend)\n",
    "sampler.options.default_shots = 100"
   ]
  },
  {
   "cell_type": "markdown",
   "id": "6f094f77",
   "metadata": {},
   "source": [
    "## Step 3: Execute on the backend"
   ]
  },
  {
   "cell_type": "code",
   "execution_count": null,
   "id": "386e22d7",
   "metadata": {},
   "outputs": [],
   "source": [
    "def get_phase(qc, sampler, n_estimation_wires):\n",
    "    \"\"\"Estimate the phase from the QPE circuit using the Runtime Sampler.\"\"\"\n",
    "    job = sampler.run([(qc, [])])\n",
    "    result = job.result()\n",
    "    pub_result = result[0]\n",
    "    counts = pub_result.join_data().get_counts()\n",
    "    most_likely_bitstring = max(counts, key=counts.get)\n",
    "    decimal = int(most_likely_bitstring, 2)\n",
    "    phase = decimal / (2 ** n_estimation_wires)\n",
    "    return phase\n",
    "\n",
    "def get_period(matrix, backend, sampler, n_target_wires, n_estimation_wires):\n",
    "    \"\"\"Estimate the period using multiple runs of phase estimation.\"\"\"\n",
    "    periods = []\n",
    "    qc = qpe_circuit(matrix, n_target_wires, n_estimation_wires)\n",
    "    transpiled_qc = transpile(qc, backend=backend, optimization_level=1)\n",
    "    phase = get_phase(transpiled_qc, sampler, n_estimation_wires)\n",
    "    fraction = fractions.Fraction(phase).limit_denominator(2 ** n_estimation_wires)\n",
    "    periods.append(fraction.denominator)\n",
    "    \n",
    "    return max(periods)\n",
    "\n",
    "def get_matrix_a_mod_N(a, N):\n",
    "    \"\"\"Build the unitary matrix for modular multiplication a mod N.\"\"\"\n",
    "    dim = 2 ** n_target_wires\n",
    "    U = np.zeros((dim, dim), dtype=complex)\n",
    "    for x in range(dim):\n",
    "        if x < N:\n",
    "            y = (a * x) % N\n",
    "        else:\n",
    "            y = x\n",
    "        U[y, x] = 1\n",
    "    return U"
   ]
  },
  {
   "cell_type": "markdown",
   "id": "f685afcf",
   "metadata": {},
   "source": [
    "## Step 3.2: Actual Algorithm"
   ]
  },
  {
   "cell_type": "code",
   "execution_count": 40,
   "id": "92fa35d2",
   "metadata": {},
   "outputs": [],
   "source": [
    "# Utility functions\n",
    "def is_coprime(a, N):\n",
    "    \"\"\"Check if a and N are coprime.\"\"\"\n",
    "    return gcd(a, N) == 1\n",
    "\n",
    "\n",
    "def is_odd(r):\n",
    "    \"\"\"Check if the period r is odd.\"\"\"\n",
    "    return r % 2 == 1\n",
    "\n",
    "\n",
    "def is_not_one(x, N):\n",
    "    \"\"\"Check if x is not congruent to 1 modulo N.\"\"\"\n",
    "    return (x % N) != 1\n"
   ]
  },
  {
   "cell_type": "code",
   "execution_count": 41,
   "id": "4298a092",
   "metadata": {},
   "outputs": [],
   "source": [
    "def shor(N):\n",
    "    \"\"\"Run Shor's algorithm to find factors of N.\"\"\"\n",
    "    for a in range(2, N - 1):\n",
    "        if not is_coprime(a, N):\n",
    "            p = gcd(a, N)\n",
    "            q = N // p\n",
    "            break\n",
    "        else:\n",
    "            U_na = get_matrix_a_mod_N(a, N)\n",
    "            r = get_period(U_na, backend, sampler, n_target_wires, n_estimation_wires)\n",
    "            if not is_odd(r):\n",
    "                x = pow(a, r // 2, N)\n",
    "                if is_not_one(x, N):\n",
    "                    p = gcd(x - 1, N)\n",
    "                    q = gcd(x + 1, N)\n",
    "                    if p * q == N and p != 1 and q != 1:\n",
    "                        break\n",
    "    return [p, q]"
   ]
  },
  {
   "cell_type": "code",
   "execution_count": 42,
   "id": "b83ccab2",
   "metadata": {},
   "outputs": [
    {
     "name": "stdout",
     "output_type": "stream",
     "text": [
      "N:  15\n",
      "Factors of 15 are: [3, 5]\n",
      "N:  15\n",
      "Factors of 15 are: [3, 5]\n",
      "N:  15\n",
      "Factors of 15 are: [3, 5]\n",
      "N:  21\n",
      "Factors of 21 are: [3, 7]\n",
      "N:  21\n",
      "Factors of 21 are: [3, 7]\n",
      "N:  21\n",
      "Factors of 21 are: [3, 7]\n"
     ]
    }
   ],
   "source": [
    "# Run the algorithm CRITICAL AGAIN WILL LOSE YOUR MONEY\n",
    "test_numbers = [\n",
    "    15,  # 3 * 5\n",
    "    15,  # 3 * 5\n",
    "    15,  # 3 * 5\n",
    "    21,  # 3 * 7\n",
    "    21,  # 3 * 7\n",
    "    21,  # 3 * 7\n",
    "]\n",
    "\n",
    "for N in test_numbers:\n",
    "    print(\"N: \", N)\n",
    "    factors = shor(N)\n",
    "    print(\"Factors of\", N, \"are:\", factors)"
   ]
  },
  {
   "cell_type": "markdown",
   "id": "073146db",
   "metadata": {},
   "source": [
    "## Step 4: Analyze the result"
   ]
  }
 ],
 "metadata": {
  "kernelspec": {
   "display_name": "Python 3",
   "language": "python",
   "name": "python3"
  },
  "language_info": {
   "codemirror_mode": {
    "name": "ipython",
    "version": 3
   },
   "file_extension": ".py",
   "mimetype": "text/x-python",
   "name": "python",
   "nbconvert_exporter": "python",
   "pygments_lexer": "ipython3",
   "version": "3.10.7"
  }
 },
 "nbformat": 4,
 "nbformat_minor": 5
}
